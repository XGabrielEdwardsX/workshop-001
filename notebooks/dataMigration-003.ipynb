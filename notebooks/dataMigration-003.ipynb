{
 "cells": [
  {
   "cell_type": "markdown",
   "metadata": {},
   "source": [
    "# Migration and Analysis"
   ]
  },
  {
   "cell_type": "markdown",
   "metadata": {},
   "source": [
    "We must ensure that the database is created in MySQL before proceeding with the migration.  \n",
    "![alt text](image.png)"
   ]
  },
  {
   "cell_type": "code",
   "execution_count": null,
   "metadata": {},
   "outputs": [
    {
     "name": "stdout",
     "output_type": "stream",
     "text": [
      "Tabla 'candidates' creada exitosamente.\n",
      "Datos insertados exitosamente en la base de datos.\n"
     ]
    }
   ],
   "source": [
    "import pandas as pd\n",
    "import sys\n",
    "sys.path.append(\"C:/Users/gabri/OneDrive/Documentos/Universidad/ETL/workshop\")\n",
    "from db_folder.db import get_connection  # import get_connection from db.py\n",
    "import numpy as np\n",
    "\n",
    "def create_table():\n",
    "    conn = get_connection()\n",
    "    cursor = conn.cursor()\n",
    "\n",
    "    cursor.execute(\"\"\"\n",
    "        CREATE TABLE IF NOT EXISTS candidates (\n",
    "            id INT AUTO_INCREMENT PRIMARY KEY,\n",
    "            first_name VARCHAR(255),\n",
    "            last_name VARCHAR(255),\n",
    "            email VARCHAR(255),\n",
    "            application_date DATE,\n",
    "            country VARCHAR(10),\n",
    "            yoe INT,\n",
    "            seniority VARCHAR(50),\n",
    "            technology VARCHAR(100),\n",
    "            code_challenge_score FLOAT,\n",
    "            technical_interview FLOAT,\n",
    "            score FLOAT,\n",
    "            hired BOOLEAN\n",
    "        )\n",
    "    \"\"\")\n",
    "\n",
    "    conn.commit()\n",
    "    cursor.close()\n",
    "    conn.close()\n",
    "    print(\"Tabla 'candidates' creada exitosamente.\")\n",
    "\n",
    "def insert_data():\n",
    "    conn = get_connection()\n",
    "    cursor = conn.cursor()\n",
    "\n",
    "    df = pd.read_csv(\"C:/Users/gabri/OneDrive/Documentos/Universidad/ETL/workshop/csv/candidates_cleaned.csv\")\n",
    "    df = df.replace({np.nan: None})\n",
    "\n",
    "    insert_query = \"\"\"\n",
    "        INSERT INTO candidates (\n",
    "            first_name, last_name, email, application_date, country, yoe, seniority, \n",
    "            technology, code_challenge_score, technical_interview, score, hired\n",
    "        ) VALUES (%s, %s, %s, %s, %s, %s, %s, %s, %s, %s, %s, %s)\n",
    "    \"\"\"\n",
    "\n",
    "    data = [\n",
    "        (\n",
    "            row[\"First Name\"], row[\"Last Name\"], row[\"Email\"], row[\"Application Date\"],\n",
    "            row[\"Country\"], row[\"YOE\"], row[\"Seniority\"], row[\"Technology\"],\n",
    "            row[\"Code Challenge Score\"], row[\"Technical Interview Score\"], row[\"Score\"],\n",
    "            row[\"Hired\"]\n",
    "        )\n",
    "        for _, row in df.iterrows()\n",
    "    ]\n",
    "\n",
    "    cursor.executemany(insert_query, data)\n",
    "    conn.commit()\n",
    "    cursor.close()\n",
    "    conn.close()\n",
    "    print(\"Datos insertados exitosamente en la base de datos.\")\n",
    "\n",
    "# Ejecutar las funciones\n",
    "create_table()\n",
    "insert_data()\n"
   ]
  },
  {
   "cell_type": "markdown",
   "metadata": {},
   "source": [
    "# Explanation\n",
    "\n",
    "With this code, we do the following:\n",
    "\n",
    "+ Establish the connection to the database, which is already defined inside the `db_folder`.  \n",
    "+ Create the `candidates` table and define the columns as they are set in **cleanData-002.ipynb**, meaning with the cleaned CSV.\n",
    "\n",
    "| Column Name                     | Data Type          |\n",
    "|---------------------------------|-------------------|\n",
    "| First Name                      | object            |\n",
    "| Last Name                       | object            |\n",
    "| Email                           | object            |\n",
    "| Application Date                | datetime64[ns]    |\n",
    "| Country                         | object            |\n",
    "| YOE                              | int64             |\n",
    "| Seniority                       | object            |\n",
    "| Technology                      | object            |\n",
    "| Code Challenge Score            | int64             |\n",
    "| Technical Interview Score       | int64             |\n",
    "| Score                           | float64           |\n",
    "| Hired                           | bool              |\n",
    "\n",
    "**Note:** In the database, we define column names using **snake_case** to improve readability and maintain consistency.\n"
   ]
  },
  {
   "attachments": {
    "image.png": {
     "image/png": "[encoded data removed]"
    }
   },
   "cell_type": "markdown",
   "metadata": {},
   "source": [
    "![image.png](attachment:image.png)"
   ]
  },
  {
   "cell_type": "markdown",
   "metadata": {},
   "source": [
    "These are the data from our `candidates_cleaned.csv` file, which we obtained in our **cleanData-002.ipynb** notebook.\n"
   ]
  }
 ],
 "metadata": {
  "kernelspec": {
   "display_name": "workshop",
   "language": "python",
   "name": "python3"
  },
  "language_info": {
   "codemirror_mode": {
    "name": "ipython",
    "version": 3
   },
   "file_extension": ".py",
   "mimetype": "text/x-python",
   "name": "python",
   "nbconvert_exporter": "python",
   "pygments_lexer": "ipython3",
   "version": "3.13.2"
  }
 },
 "nbformat": 4,
 "nbformat_minor": 2
}
