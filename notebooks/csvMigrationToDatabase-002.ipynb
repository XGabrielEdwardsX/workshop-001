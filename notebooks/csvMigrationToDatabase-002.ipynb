{
 "cells": [
  {
   "cell_type": "markdown",
   "metadata": {},
   "source": [
    "# **Clean and transformation CSV**"
   ]
  },
  {
   "attachments": {
    "image.png": {
     "image/png": "[encoded data removed]"
    }
   },
   "cell_type": "markdown",
   "metadata": {},
   "source": [
    "We must ensure that the database is created in MySQL before proceeding with the migration.\n",
    "![image.png](attachment:image.png)"
   ]
  },
  {
   "cell_type": "markdown",
   "metadata": {},
   "source": [
    "The goal of this notebook is to:  \n",
    "\n",
    "✔ **Migrate the raw CSV** as a **data table** in **MySQL**, named **`raw_candidates`**.  \n",
    "✔ Start working with the data **directly from the database**.  \n",
    "✔ Later, clean the data in a **separate notebook** that we will create. "
   ]
  },
  {
   "cell_type": "code",
   "execution_count": 3,
   "metadata": {},
   "outputs": [
    {
     "name": "stdout",
     "output_type": "stream",
     "text": [
      "Table 'raw_candidates' create.\n",
      "Csv insert into 'workshop_001' database in the table 'raw_candidates'.\n"
     ]
    }
   ],
   "source": [
    "import pandas as pd\n",
    "import sys\n",
    "sys.path.append(\"C:/Users/gabri/OneDrive/Documentos/Universidad/ETL/workshop\")\n",
    "from db_folder.db import get_connection\n",
    "import numpy as np\n",
    "\n",
    "def create_raw_table():\n",
    "    conn = get_connection()\n",
    "    cursor = conn.cursor()\n",
    "    \n",
    "    cursor.execute(\"\"\"\n",
    "        CREATE TABLE IF NOT EXISTS raw_candidates (\n",
    "            id INT AUTO_INCREMENT PRIMARY KEY,\n",
    "            first_name VARCHAR(255),\n",
    "            last_name VARCHAR(255),\n",
    "            email VARCHAR(255),\n",
    "            application_date VARCHAR(50),\n",
    "            country VARCHAR(255),\n",
    "            yoe INT,\n",
    "            seniority VARCHAR(50),\n",
    "            technology VARCHAR(100),\n",
    "            code_challenge_score INT(50),\n",
    "            technical_interview_score INT(50)\n",
    "        )\n",
    "    \"\"\")\n",
    "    \n",
    "    conn.commit()\n",
    "    cursor.close()\n",
    "    conn.close()\n",
    "    print(\"Table 'raw_candidates' create.\")\n",
    "\n",
    "def insert_raw_data():\n",
    "    conn = get_connection()\n",
    "    cursor = conn.cursor()\n",
    "    \n",
    "    # Load Original CSV\n",
    "    file_path = \"C:/Users/gabri/OneDrive/Documentos/Universidad/ETL/workshop/csv/candidates.csv\"\n",
    "    df = pd.read_csv(file_path, sep=\";\")\n",
    "    # Convert NaN to None for not problems\n",
    "    df = df.replace({np.nan: None})\n",
    "    \n",
    "    insert_query = \"\"\"\n",
    "        INSERT INTO raw_candidates (\n",
    "            first_name, last_name, email, application_date, country, yoe, seniority, \n",
    "            technology, code_challenge_score, technical_interview_score\n",
    "        ) VALUES (%s, %s, %s, %s, %s, %s, %s, %s, %s, %s)\n",
    "    \"\"\"\n",
    "    \n",
    "    data = [\n",
    "        (\n",
    "            row[\"First Name\"], row[\"Last Name\"], row[\"Email\"], row[\"Application Date\"],\n",
    "            row[\"Country\"], row[\"YOE\"], row[\"Seniority\"], row[\"Technology\"],\n",
    "            row[\"Code Challenge Score\"], row[\"Technical Interview Score\"]\n",
    "        )\n",
    "        for _, row in df.iterrows()\n",
    "    ]\n",
    "    \n",
    "    cursor.executemany(insert_query, data)\n",
    "    conn.commit()\n",
    "    cursor.close()\n",
    "    conn.close()\n",
    "    print(\"Csv insert into 'workshop_001' database in the table 'raw_candidates'.\")\n",
    "    \n",
    "create_raw_table()\n",
    "insert_raw_data()\n"
   ]
  },
  {
   "cell_type": "markdown",
   "metadata": {},
   "source": [
    "## We will continue with the clean and transform in the third notebook:  \n",
    "\n",
    "**cleanAndTransform-003.ipynb**\n"
   ]
  }
 ],
 "metadata": {
  "kernelspec": {
   "display_name": "workshop",
   "language": "python",
   "name": "python3"
  },
  "language_info": {
   "codemirror_mode": {
    "name": "ipython",
    "version": 3
   },
   "file_extension": ".py",
   "mimetype": "text/x-python",
   "name": "python",
   "nbconvert_exporter": "python",
   "pygments_lexer": "ipython3",
   "version": "3.13.2"
  }
 },
 "nbformat": 4,
 "nbformat_minor": 2
}
