{
 "cells": [
  {
   "cell_type": "markdown",
   "metadata": {},
   "source": [
    "# **Clean and transformation CSV**"
   ]
  },
  {
   "cell_type": "code",
   "execution_count": null,
   "metadata": {},
   "outputs": [
    {
     "name": "stdout",
     "output_type": "stream",
     "text": [
      "Archivo limpio guardado en: C:/Users/gabri/OneDrive/Documentos/Universidad/ETL/workshop/csv/candidates_cleaned.csv\n"
     ]
    }
   ],
   "source": [
    "import pandas as pd\n",
    "import pycountry\n",
    "\n",
    "file_path = \"C:/Users/gabri/OneDrive/Documentos/Universidad/ETL/workshop/csv/candidates.csv\"\n",
    "df = pd.read_csv(file_path, sep=\";\")\n",
    "\n",
    "def get_country_alpha3(country_name): # Define a function to abbreviate country names\n",
    "    try:\n",
    "        return pycountry.countries.lookup(country_name).alpha_3\n",
    "    except LookupError:\n",
    "        return None\n",
    "\n",
    "df['Application Date'] = pd.to_datetime(df['Application Date'], errors='coerce') #Convert Application Date to string type\n",
    "df['Score'] = (df['Code Challenge Score'] + df['Technical Interview Score']) / 2 # Create Score with math operation between both Scores\n",
    "df['Hired'] = df['Score'] >= 7 #Create Hired Column in function to the score\n",
    "df['Country'] = df['Country'].apply(get_country_alpha3) # function  get_country_alpha3 apply\n",
    "\n",
    "cleaned_file_path = \"C:/Users/gabri/OneDrive/Documentos/Universidad/ETL/workshop/csv/candidates_cleaned.csv\"\n",
    "df.to_csv(cleaned_file_path, index=False)\n",
    "print(f\"Archivo limpio guardado en: {cleaned_file_path}\")\n"
   ]
  },
  {
   "cell_type": "markdown",
   "metadata": {},
   "source": [
    "## As in the notebook readData-001.ipynb:\n",
    "\n",
    "+ There are no null values.  \n",
    "+ There are no duplicate values.  \n",
    "+ There are no duplicate rows.  \n",
    "+ We know that Application Date is of type `object`, so we need to fix that and handle it as a date.  \n",
    "+ We do not have a column that identifies whether a candidate meets the conditions to be hired.  \n",
    "+ We do not have a column to indicate whether a candidate is hired or not.  \n",
    "\n",
    "### **Therefore,**\n",
    "\n",
    "## In the notebook cleanData-002.ipynb, we do the following:  \n",
    "\n",
    "+ Application Date is of type `object`, so in this cleaning process, we convert it to `date`.  \n",
    "+ We create a **Score** column to determine whether a candidate truly meets the requirements to be hired based on their grades.  \n",
    "+ We create the **Hired** column to identify which candidates meet the recommended requirements.  \n",
    "+ We abbreviate country names to **3-letter codes** using the **pycountry** library.\n",
    "+ Save a new file with name: **candidates_cleaned.csv**, this file have the clean data.\n",
    "+ We create a file with the cleaned data, which we will later migrate to the database in **dataMigration-003.ipynb**.  \n"
   ]
  },
  {
   "cell_type": "markdown",
   "metadata": {},
   "source": [
    "# **Dataframe clean and transformed**"
   ]
  },
  {
   "cell_type": "code",
   "execution_count": 10,
   "metadata": {},
   "outputs": [
    {
     "data": {
      "text/html": [
       "<div>\n",
       "<style scoped>\n",
       "    .dataframe tbody tr th:only-of-type {\n",
       "        vertical-align: middle;\n",
       "    }\n",
       "\n",
       "    .dataframe tbody tr th {\n",
       "        vertical-align: top;\n",
       "    }\n",
       "\n",
       "    .dataframe thead th {\n",
       "        text-align: right;\n",
       "    }\n",
       "</style>\n",
       "<table border=\"1\" class=\"dataframe\">\n",
       "  <thead>\n",
       "    <tr style=\"text-align: right;\">\n",
       "      <th></th>\n",
       "      <th>First Name</th>\n",
       "      <th>Last Name</th>\n",
       "      <th>Email</th>\n",
       "      <th>Application Date</th>\n",
       "      <th>Country</th>\n",
       "      <th>YOE</th>\n",
       "      <th>Seniority</th>\n",
       "      <th>Technology</th>\n",
       "      <th>Code Challenge Score</th>\n",
       "      <th>Technical Interview Score</th>\n",
       "      <th>Score</th>\n",
       "      <th>Hired</th>\n",
       "    </tr>\n",
       "  </thead>\n",
       "  <tbody>\n",
       "    <tr>\n",
       "      <th>0</th>\n",
       "      <td>Bernadette</td>\n",
       "      <td>Langworth</td>\n",
       "      <td>leonard91@yahoo.com</td>\n",
       "      <td>2021-02-26</td>\n",
       "      <td>NOR</td>\n",
       "      <td>2</td>\n",
       "      <td>Intern</td>\n",
       "      <td>Data Engineer</td>\n",
       "      <td>3</td>\n",
       "      <td>3</td>\n",
       "      <td>3.0</td>\n",
       "      <td>False</td>\n",
       "    </tr>\n",
       "    <tr>\n",
       "      <th>1</th>\n",
       "      <td>Camryn</td>\n",
       "      <td>Reynolds</td>\n",
       "      <td>zelda56@hotmail.com</td>\n",
       "      <td>2021-09-09</td>\n",
       "      <td>PAN</td>\n",
       "      <td>10</td>\n",
       "      <td>Intern</td>\n",
       "      <td>Data Engineer</td>\n",
       "      <td>2</td>\n",
       "      <td>10</td>\n",
       "      <td>6.0</td>\n",
       "      <td>False</td>\n",
       "    </tr>\n",
       "    <tr>\n",
       "      <th>2</th>\n",
       "      <td>Larue</td>\n",
       "      <td>Spinka</td>\n",
       "      <td>okey_schultz41@gmail.com</td>\n",
       "      <td>2020-04-14</td>\n",
       "      <td>BLR</td>\n",
       "      <td>4</td>\n",
       "      <td>Mid-Level</td>\n",
       "      <td>Client Success</td>\n",
       "      <td>10</td>\n",
       "      <td>9</td>\n",
       "      <td>9.5</td>\n",
       "      <td>True</td>\n",
       "    </tr>\n",
       "    <tr>\n",
       "      <th>3</th>\n",
       "      <td>Arch</td>\n",
       "      <td>Spinka</td>\n",
       "      <td>elvera_kulas@yahoo.com</td>\n",
       "      <td>2020-10-01</td>\n",
       "      <td>ERI</td>\n",
       "      <td>25</td>\n",
       "      <td>Trainee</td>\n",
       "      <td>QA Manual</td>\n",
       "      <td>7</td>\n",
       "      <td>1</td>\n",
       "      <td>4.0</td>\n",
       "      <td>False</td>\n",
       "    </tr>\n",
       "    <tr>\n",
       "      <th>4</th>\n",
       "      <td>Larue</td>\n",
       "      <td>Altenwerth</td>\n",
       "      <td>minnie.gislason@gmail.com</td>\n",
       "      <td>2020-05-20</td>\n",
       "      <td>MMR</td>\n",
       "      <td>13</td>\n",
       "      <td>Mid-Level</td>\n",
       "      <td>Social Media Community Management</td>\n",
       "      <td>9</td>\n",
       "      <td>7</td>\n",
       "      <td>8.0</td>\n",
       "      <td>True</td>\n",
       "    </tr>\n",
       "  </tbody>\n",
       "</table>\n",
       "</div>"
      ],
      "text/plain": [
       "   First Name   Last Name                      Email Application Date Country  \\\n",
       "0  Bernadette   Langworth        leonard91@yahoo.com       2021-02-26     NOR   \n",
       "1      Camryn    Reynolds        zelda56@hotmail.com       2021-09-09     PAN   \n",
       "2       Larue      Spinka   okey_schultz41@gmail.com       2020-04-14     BLR   \n",
       "3        Arch      Spinka     elvera_kulas@yahoo.com       2020-10-01     ERI   \n",
       "4       Larue  Altenwerth  minnie.gislason@gmail.com       2020-05-20     MMR   \n",
       "\n",
       "   YOE  Seniority                         Technology  Code Challenge Score  \\\n",
       "0    2     Intern                      Data Engineer                     3   \n",
       "1   10     Intern                      Data Engineer                     2   \n",
       "2    4  Mid-Level                     Client Success                    10   \n",
       "3   25    Trainee                          QA Manual                     7   \n",
       "4   13  Mid-Level  Social Media Community Management                     9   \n",
       "\n",
       "   Technical Interview Score  Score  Hired  \n",
       "0                          3    3.0  False  \n",
       "1                         10    6.0  False  \n",
       "2                          9    9.5   True  \n",
       "3                          1    4.0  False  \n",
       "4                          7    8.0   True  "
      ]
     },
     "execution_count": 10,
     "metadata": {},
     "output_type": "execute_result"
    }
   ],
   "source": [
    "df.head()"
   ]
  },
  {
   "cell_type": "code",
   "execution_count": 9,
   "metadata": {},
   "outputs": [
    {
     "name": "stdout",
     "output_type": "stream",
     "text": [
      "First Name                           object\n",
      "Last Name                            object\n",
      "Email                                object\n",
      "Application Date             datetime64[ns]\n",
      "Country                              object\n",
      "YOE                                   int64\n",
      "Seniority                            object\n",
      "Technology                           object\n",
      "Code Challenge Score                  int64\n",
      "Technical Interview Score             int64\n",
      "Score                               float64\n",
      "Hired                                  bool\n",
      "dtype: object\n"
     ]
    }
   ],
   "source": [
    "print(df.dtypes)\n"
   ]
  },
  {
   "cell_type": "markdown",
   "metadata": {},
   "source": [
    "This results in 12 columns, including the 2 new ones we have added:\n",
    "\n",
    "**Score and Hired**\n",
    "\n",
    "+ **Score** is a `float` column created from the data of both **Score** (`Code Challenge Score` and `Technical Interview Score`).  \n",
    "+ **Hired** is a `boolean` column that determines whether a candidate is **not hired (0)** or **hired (1)**.  \n"
   ]
  },
  {
   "cell_type": "markdown",
   "metadata": {},
   "source": [
    "## We will continue with the migration in the third notebook:  \n",
    "\n",
    "**dataMigration-003**\n"
   ]
  }
 ],
 "metadata": {
  "kernelspec": {
   "display_name": "workshop",
   "language": "python",
   "name": "python3"
  },
  "language_info": {
   "codemirror_mode": {
    "name": "ipython",
    "version": 3
   },
   "file_extension": ".py",
   "mimetype": "text/x-python",
   "name": "python",
   "nbconvert_exporter": "python",
   "pygments_lexer": "ipython3",
   "version": "3.13.2"
  }
 },
 "nbformat": 4,
 "nbformat_minor": 2
}
